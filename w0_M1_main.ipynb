{
 "cells": [
  {
   "cell_type": "code",
   "execution_count": 2,
   "metadata": {},
   "outputs": [],
   "source": [
    "#function for computing F1 score\n",
    "def compute_F1_score(tp, fp, fn):\n",
    "    precision, recall, f1_score= 0, 0, 0\n",
    "    if type(tp) != int :\n",
    "        print('tp must be int')\n",
    "    elif type(fp) != int :\n",
    "        print('fp must be int')\n",
    "    elif type(fn) != int :\n",
    "        print('fn must be int')\n",
    "    elif tp <=0 or fp <= 0 or fn <= 0:\n",
    "        print('tp and fp and fn must be greater than zero')\n",
    "    else:\n",
    "        precision = tp/(tp +fp)\n",
    "        recall = tp/(tp +fn)\n",
    "        f1_score = 2* (precision* recall)/ (precision+ recall)\n",
    "        return precision, recall, f1_score"
   ]
  },
  {
   "cell_type": "code",
   "execution_count": 4,
   "metadata": {},
   "outputs": [
    {
     "name": "stdout",
     "output_type": "stream",
     "text": [
      "precision is0.4\n",
      "recall is 0.2857142857142857\n",
      "f1_score is 0.3333333333333333\n",
      "0.33\n"
     ]
    }
   ],
   "source": [
    "# test case 1\n",
    "tp = 2\n",
    "fp = 3\n",
    "fn = 5\n",
    "precision, recall, f1_score = compute_F1_score(tp, fp, fn)\n",
    "print(f'precision is{precision}')\n",
    "print(f'recall is {recall}')\n",
    "print(f'f1_score is {f1_score}')\n",
    "print(round(f1_score,2))\n"
   ]
  },
  {
   "cell_type": "code",
   "execution_count": 9,
   "metadata": {},
   "outputs": [],
   "source": [
    "import math\n",
    "import numbers"
   ]
  },
  {
   "cell_type": "code",
   "execution_count": 11,
   "metadata": {},
   "outputs": [],
   "source": [
    "#check number\n",
    "def is_number(var):\n",
    "    return isinstance(var, numbers.Number)\n",
    "\n",
    "#function for signmoid, relu, and elu\n",
    "def activation_function (f_name, x):\n",
    "    #check number\n",
    "    if is_number(x) == False:\n",
    "        print('x must be a number')\n",
    "        return False\n",
    "    else:\n",
    "        x = float(x)\n",
    "\n",
    "    #compute f(x)\n",
    "    if f_name == 'sigmoid':\n",
    "        sigmoid = 1/(1+ math.exp(-x))\n",
    "        return sigmoid\n",
    "    elif f_name == 'relu':\n",
    "        if x <= 0:\n",
    "            return 0\n",
    "        else:\n",
    "            return x\n",
    "    elif f_name == 'ELU':\n",
    "        if x <= 0:\n",
    "            elu = 0.01*(math.exp(x)- 1)\n",
    "        else:\n",
    "            elu = x\n",
    "        return elu\n",
    "    else:\n",
    "        print('function_name is not supported')\n",
    "        return False"
   ]
  },
  {
   "cell_type": "code",
   "execution_count": 15,
   "metadata": {},
   "outputs": [
    {
     "name": "stdout",
     "output_type": "stream",
     "text": [
      "0.95\n"
     ]
    }
   ],
   "source": [
    "#test case 2\n",
    "p = activation_function ('sigmoid', 3)\n",
    "print(round(p,2)) "
   ]
  },
  {
   "cell_type": "code",
   "execution_count": 32,
   "metadata": {},
   "outputs": [],
   "source": [
    "import random"
   ]
  },
  {
   "cell_type": "code",
   "execution_count": 33,
   "metadata": {},
   "outputs": [],
   "source": [
    "#Computing loss\n",
    "def compute_loss(f_name,n):\n",
    "    target = [] \n",
    "    predict = []\n",
    "    \n",
    "    if n.isnumeric() != True:\n",
    "        print('number of samples must be an integer number')\n",
    "        return False\n",
    "    else:\n",
    "        n = int(n)\n",
    "    \n",
    "    for i in range(n):\n",
    "        target.append(random.uniform(0, 10))\n",
    "        predict.append(random.uniform(0, 10))\n",
    "    \n",
    "    f_name = f_name.lower()\n",
    "    if f_name == 'mae':\n",
    "        sum1 = 0\n",
    "        for i in range(n):\n",
    "            sum1 += math.fabs(target[i]-predict[i])\n",
    "        f1 = sum1 / n\n",
    "        return f1\n",
    "    elif f_name == 'mse':\n",
    "        sum2 = 0\n",
    "        for i in range(n):\n",
    "            sum2 += (target[i]-predict[i])**2\n",
    "        f2 = sum2 / n\n",
    "        return f2\n",
    "    elif f_name == 'rmse':\n",
    "        sum3 = 0\n",
    "        for i in range(n):\n",
    "            sum3 += (target[i]-predict[i])**2\n",
    "        f3 = math.sqrt(sum3 / n)\n",
    "        return f3\n",
    "    else:\n",
    "        print('function is not supported')\n",
    "        return False\n",
    "\n",
    "            "
   ]
  },
  {
   "cell_type": "code",
   "execution_count": 35,
   "metadata": {},
   "outputs": [
    {
     "data": {
      "text/plain": [
       "3.728179513660001"
      ]
     },
     "execution_count": 35,
     "metadata": {},
     "output_type": "execute_result"
    }
   ],
   "source": [
    "#Testcase 3\n",
    "f_name = 'rmse'\n",
    "n= '10'\n",
    "compute_loss(f_name,n)"
   ]
  },
  {
   "cell_type": "code",
   "execution_count": 1,
   "metadata": {},
   "outputs": [],
   "source": [
    "# factorial function\n",
    "def factorial(x):\n",
    "    if x == 0:\n",
    "        return 1\n",
    "    else:\n",
    "        return factorial(x-1)*x"
   ]
  },
  {
   "cell_type": "code",
   "execution_count": 3,
   "metadata": {},
   "outputs": [],
   "source": [
    "#maclaurin compute sin\n",
    "def compute_sin(x, n):\n",
    "    sin = 0\n",
    "    for i in range(n):\n",
    "        sin += ((-1)**i)*(x**(2*i+1))/factorial(2*i+1)\n",
    "    return sin"
   ]
  },
  {
   "cell_type": "code",
   "execution_count": 5,
   "metadata": {},
   "outputs": [],
   "source": [
    "#compute cos\n",
    "def compute_cos(x, n):\n",
    "    cos = 0\n",
    "    for i in range(n):\n",
    "        cos += ((-1)**i)*(x**(2*i))/factorial(2*i)\n",
    "    return cos"
   ]
  },
  {
   "cell_type": "code",
   "execution_count": 4,
   "metadata": {},
   "outputs": [],
   "source": [
    "#compute sinh\n",
    "def compute_sinh(x,n):\n",
    "    sinh = 0\n",
    "    for i in range(n):\n",
    "        sinh += x**(2*i+1)/ factorial(2*i + 1)\n",
    "    return sinh\n"
   ]
  },
  {
   "cell_type": "code",
   "execution_count": 6,
   "metadata": {},
   "outputs": [],
   "source": [
    "#compute cosh\n",
    "def compute_cosh(x, n):\n",
    "    cosh = 0\n",
    "    for i in range(n):\n",
    "        cosh += x**(2*i)/ factorial(2*i)\n",
    "    return cosh"
   ]
  },
  {
   "cell_type": "code",
   "execution_count": 7,
   "metadata": {},
   "outputs": [
    {
     "data": {
      "text/plain": [
       "45"
      ]
     },
     "execution_count": 7,
     "metadata": {},
     "output_type": "execute_result"
    }
   ],
   "source": []
  },
  {
   "cell_type": "code",
   "execution_count": 2,
   "metadata": {},
   "outputs": [],
   "source": [
    "#compute MD_nRE\n",
    "def md_nre(y, y_hat, n, p):\n",
    "    result = (y**(1/n) - y_hat**(1/n))**p\n",
    "    return result"
   ]
  }
 ],
 "metadata": {
  "kernelspec": {
   "display_name": "course",
   "language": "python",
   "name": "python3"
  },
  "language_info": {
   "codemirror_mode": {
    "name": "ipython",
    "version": 3
   },
   "file_extension": ".py",
   "mimetype": "text/x-python",
   "name": "python",
   "nbconvert_exporter": "python",
   "pygments_lexer": "ipython3",
   "version": "3.8.19"
  }
 },
 "nbformat": 4,
 "nbformat_minor": 2
}
